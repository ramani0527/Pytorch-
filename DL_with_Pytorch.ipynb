{
  "nbformat": 4,
  "nbformat_minor": 0,
  "metadata": {
    "colab": {
      "provenance": [],
      "gpuType": "T4",
      "authorship_tag": "ABX9TyPNDh5iW3DaMRYV5QcnqNeU",
      "include_colab_link": true
    },
    "kernelspec": {
      "name": "python3",
      "display_name": "Python 3"
    },
    "language_info": {
      "name": "python"
    },
    "accelerator": "GPU"
  },
  "cells": [
    {
      "cell_type": "markdown",
      "metadata": {
        "id": "view-in-github",
        "colab_type": "text"
      },
      "source": [
        "<a href=\"https://colab.research.google.com/github/ramani0527/Pytorch-/blob/main/DL_with_Pytorch.ipynb\" target=\"_parent\"><img src=\"https://colab.research.google.com/assets/colab-badge.svg\" alt=\"Open In Colab\"/></a>"
      ]
    },
    {
      "cell_type": "code",
      "execution_count": 4,
      "metadata": {
        "id": "oqXuPY9JE0S1"
      },
      "outputs": [],
      "source": [
        "import torch"
      ]
    },
    {
      "cell_type": "markdown",
      "source": [
        "Tensors : A torch.Tesor is  a mulit dimensional matrix containing element of a sigle data type. Work better on GPU and default datatype is float32. Suitable of DeepLeaning than a numpy array."
      ],
      "metadata": {
        "id": "jSNJq-8SJFZ5"
      }
    },
    {
      "cell_type": "code",
      "source": [
        "import numpy as np\n"
      ],
      "metadata": {
        "id": "2ZrsSqKwI5hh"
      },
      "execution_count": 10,
      "outputs": []
    },
    {
      "cell_type": "markdown",
      "source": [
        "**LIST**"
      ],
      "metadata": {
        "id": "OnJMzjETJz5y"
      }
    },
    {
      "cell_type": "code",
      "source": [
        "my_list = [1,2,3,4]\n",
        "my_list"
      ],
      "metadata": {
        "colab": {
          "base_uri": "https://localhost:8080/"
        },
        "id": "JO_1FCj3I8RI",
        "outputId": "bf2bb4f7-9ca5-486d-8e24-d5e7d9d40c3e"
      },
      "execution_count": 6,
      "outputs": [
        {
          "output_type": "execute_result",
          "data": {
            "text/plain": [
              "[1, 2, 3, 4]"
            ]
          },
          "metadata": {},
          "execution_count": 6
        }
      ]
    },
    {
      "cell_type": "code",
      "source": [
        "my_list1 =[[1,2,3,4],[6,7,8,9]]\n",
        "my_list1"
      ],
      "metadata": {
        "colab": {
          "base_uri": "https://localhost:8080/"
        },
        "id": "-ubRzel9J71B",
        "outputId": "0f7c4541-7bfa-4560-a23c-1632d52c1bfb"
      },
      "execution_count": 7,
      "outputs": [
        {
          "output_type": "execute_result",
          "data": {
            "text/plain": [
              "[[1, 2, 3, 4], [6, 7, 8, 9]]"
            ]
          },
          "metadata": {},
          "execution_count": 7
        }
      ]
    },
    {
      "cell_type": "markdown",
      "source": [
        "Numpy arrays"
      ],
      "metadata": {
        "id": "H4ykLU-CKHRm"
      }
    },
    {
      "cell_type": "code",
      "source": [
        "np1 = np.random.rand(3,4)\n",
        "np1"
      ],
      "metadata": {
        "colab": {
          "base_uri": "https://localhost:8080/"
        },
        "id": "qCxoDnBjKK8-",
        "outputId": "a4cb99db-861e-46d6-cd37-5c669e9955ca"
      },
      "execution_count": 15,
      "outputs": [
        {
          "output_type": "execute_result",
          "data": {
            "text/plain": [
              "array([[0.84213438, 0.54869488, 0.32573707, 0.6360747 ],\n",
              "       [0.6199114 , 0.85114823, 0.03901014, 0.87725191],\n",
              "       [0.3189741 , 0.40589486, 0.70318429, 0.75139408]])"
            ]
          },
          "metadata": {},
          "execution_count": 15
        }
      ]
    },
    {
      "cell_type": "code",
      "source": [
        "np1.dtype"
      ],
      "metadata": {
        "colab": {
          "base_uri": "https://localhost:8080/"
        },
        "id": "hTKPE1ItKmab",
        "outputId": "d034d235-377b-455d-9b19-cb3cb81ad199"
      },
      "execution_count": 16,
      "outputs": [
        {
          "output_type": "execute_result",
          "data": {
            "text/plain": [
              "dtype('float64')"
            ]
          },
          "metadata": {},
          "execution_count": 16
        }
      ]
    },
    {
      "cell_type": "markdown",
      "source": [
        "**TENSORS**"
      ],
      "metadata": {
        "id": "yzzCTB9GKppt"
      }
    },
    {
      "cell_type": "code",
      "source": [
        "tensor_2d = torch.rand(3,5)\n",
        "tensor_2d"
      ],
      "metadata": {
        "colab": {
          "base_uri": "https://localhost:8080/"
        },
        "id": "XzTCkKC-KtOb",
        "outputId": "83bf43d0-7bd2-4cfa-9ca4-9e51502caeab"
      },
      "execution_count": 17,
      "outputs": [
        {
          "output_type": "execute_result",
          "data": {
            "text/plain": [
              "tensor([[0.7378, 0.9085, 0.9452, 0.8093, 0.1762],\n",
              "        [0.5289, 0.3229, 0.7310, 0.9491, 0.8753],\n",
              "        [0.4399, 0.7926, 0.1252, 0.6484, 0.1990]])"
            ]
          },
          "metadata": {},
          "execution_count": 17
        }
      ]
    },
    {
      "cell_type": "code",
      "source": [
        "tensor_3d = torch.randn(3,2,3)\n",
        "tensor_3d"
      ],
      "metadata": {
        "colab": {
          "base_uri": "https://localhost:8080/"
        },
        "id": "8V7BwD0dLTve",
        "outputId": "dd46f931-1a5f-47a9-acbe-4a0cfa694bf3"
      },
      "execution_count": 19,
      "outputs": [
        {
          "output_type": "execute_result",
          "data": {
            "text/plain": [
              "tensor([[[ 0.3659,  0.0524, -0.3531],\n",
              "         [ 1.1157,  0.2106,  1.1589]],\n",
              "\n",
              "        [[ 0.0383,  0.1415, -0.2193],\n",
              "         [-0.3631,  0.6800,  1.8245]],\n",
              "\n",
              "        [[ 0.4354,  1.7148,  0.1331],\n",
              "         [-0.7137, -0.2228,  0.8519]]])"
            ]
          },
          "metadata": {},
          "execution_count": 19
        }
      ]
    },
    {
      "cell_type": "code",
      "source": [
        "tensor_3d.dtype"
      ],
      "metadata": {
        "colab": {
          "base_uri": "https://localhost:8080/"
        },
        "id": "jy98e30-MSLD",
        "outputId": "5c82d35e-496f-422e-dd9a-e8ac4753eb78"
      },
      "execution_count": 21,
      "outputs": [
        {
          "output_type": "execute_result",
          "data": {
            "text/plain": [
              "torch.float32"
            ]
          },
          "metadata": {},
          "execution_count": 21
        }
      ]
    },
    {
      "cell_type": "code",
      "source": [
        "# Create tensor out of numpy array\n",
        "my_tens = torch.tensor(np1)\n",
        "my_tens\n"
      ],
      "metadata": {
        "colab": {
          "base_uri": "https://localhost:8080/"
        },
        "id": "09ScXfjQLixR",
        "outputId": "d4ebe2af-2dff-427c-bc83-ae051b29261f"
      },
      "execution_count": 20,
      "outputs": [
        {
          "output_type": "execute_result",
          "data": {
            "text/plain": [
              "tensor([[0.8421, 0.5487, 0.3257, 0.6361],\n",
              "        [0.6199, 0.8511, 0.0390, 0.8773],\n",
              "        [0.3190, 0.4059, 0.7032, 0.7514]], dtype=torch.float64)"
            ]
          },
          "metadata": {},
          "execution_count": 20
        }
      ]
    },
    {
      "cell_type": "code",
      "source": [],
      "metadata": {
        "id": "E9UpqyboL6kv"
      },
      "execution_count": null,
      "outputs": []
    }
  ]
}